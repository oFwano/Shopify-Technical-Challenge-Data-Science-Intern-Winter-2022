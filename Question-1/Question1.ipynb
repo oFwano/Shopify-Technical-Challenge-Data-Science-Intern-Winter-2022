{
  "nbformat": 4,
  "nbformat_minor": 0,
  "metadata": {
    "colab": {
      "name": "Question1.ipynb",
      "provenance": [],
      "collapsed_sections": []
    },
    "kernelspec": {
      "name": "python3",
      "display_name": "Python 3"
    },
    "language_info": {
      "name": "python"
    }
  },
  "cells": [
    {
      "cell_type": "markdown",
      "metadata": {
        "id": "Llul6aihgEeV"
      },
      "source": [
        "# **Question 1 Part a)**\n",
        "## **Think about what could be going wrong with our calculation. Think about a better way to evaluate this data.**\n",
        "\n"
      ]
    },
    {
      "cell_type": "code",
      "metadata": {
        "id": "dHSqenpccw6l"
      },
      "source": [
        "import pandas as pd\n",
        "import matplotlib.pyplot as plt"
      ],
      "execution_count": 1,
      "outputs": []
    },
    {
      "cell_type": "markdown",
      "metadata": {
        "id": "92wZFMIIhgM6"
      },
      "source": [
        "To determine what could be going wrong with our calculation, I began by assert the dataset is within a 30-day range and investigating how the naive calculation was calculation. \n",
        "<br><br>\n",
        "As it turns out the formula used for the naive calculation:\n",
        "<br>*AOV = total revenue / number of orders*"
      ]
    },
    {
      "cell_type": "code",
      "metadata": {
        "colab": {
          "base_uri": "https://localhost:8080/"
        },
        "id": "pOfHwtgnc6Xe",
        "outputId": "50f7e86c-3d5b-403d-a9a5-76a18d8974c8"
      },
      "source": [
        "data = pd.read_csv(\"datasetQ1.csv\",header=0)\n",
        "data = data.drop_duplicates()\n",
        "\n",
        "aov = data['order_amount'].sum() / len(data)\n",
        "print(\"Naive calculation of AOV = $\" + str(round(aov,2))+\"\\n\\n\")\n",
        "\n",
        "data = data.sort_values(by=['created_at'])\n",
        "print(data['created_at'].head(1))\n",
        "print(data['created_at'].tail(1))\n",
        "print(\"\\n The is within a 30-day range since it begans and ends in March 2017.\")"
      ],
      "execution_count": 2,
      "outputs": [
        {
          "output_type": "stream",
          "name": "stdout",
          "text": [
            "Naive calculation of AOV = $3145.13\n",
            "\n",
            "\n",
            "1862    2017-03-01 0:08:09\n",
            "Name: created_at, dtype: object\n",
            "145    2017-03-30 9:55:00\n",
            "Name: created_at, dtype: object\n",
            "\n",
            " The is within a 30-day range since it begans and ends in March 2017.\n"
          ]
        }
      ]
    },
    {
      "cell_type": "markdown",
      "metadata": {
        "id": "KXzwDa3nlTpB"
      },
      "source": [
        "Since AOV is calculated by taking the total revenue / number of orders, my first intutition was to check for outliers. There may be a single order or a group of orders that may skew up the average. <br><br>  I used a scatterplot to quick visualise any potential outliers. I chose the columns total_items and order_amount because they are relavent to the calculation of AOV."
      ]
    },
    {
      "cell_type": "code",
      "metadata": {
        "colab": {
          "base_uri": "https://localhost:8080/",
          "height": 296
        },
        "id": "efYTGpdHpQHO",
        "outputId": "91945763-3fba-4870-a48d-e6e1bf19ba32"
      },
      "source": [
        "plt.scatter(data['total_items'], data['order_amount'],label='Unique Order_id')\n",
        "plt.legend()\n",
        "plt.xlabel('Total_Items')\n",
        "plt.ylabel('Order_amount')\n",
        "plt.title('Total_items vs Order_amount for each Order for the month of March 2017')\n",
        "plt.show()"
      ],
      "execution_count": 3,
      "outputs": [
        {
          "output_type": "display_data",
          "data": {
            "image/png": "[encoded data removed]",
            "text/plain": [
              "<Figure size 432x288 with 1 Axes>"
            ]
          },
          "metadata": {
            "needs_background": "light"
          }
        }
      ]
    },
    {
      "cell_type": "markdown",
      "metadata": {
        "id": "3voqR31-qNBv"
      },
      "source": [
        "\n",
        "Showcased by the plot above, the majority of orders have a total_item count of less than 250. On the otherhand, there is one minority of order(s) of 2000 items which is signficiantly deviated from the rest of the data set.\n",
        "<br><br>\n",
        "To determine the cause of outliers, I sorted the dataset by order_amount and total_items respectively.\n",
        "<br><br>\n",
        "By observation, I notice that user 607 is repeated making large purchases of 2000 items. Although the action is suspicious, the reasoning is not relavent to our current context. Outside of the group of orders by User 607, there are also orders with a small amount of total_items resulting in a large order amount such as order 692, 2493, and 3725.\n",
        "<br><br>\n",
        "As such, we can not rule out the possiblities of having outliers on both ends of the dataset."
      ]
    },
    {
      "cell_type": "code",
      "metadata": {
        "colab": {
          "base_uri": "https://localhost:8080/",
          "height": 675
        },
        "id": "fFnqtJUngzY4",
        "outputId": "ebdb18f4-d3f3-4249-e7e9-5447c54ea4b0"
      },
      "source": [
        "data.sort_values(by=['order_amount'],ascending=False).head(20)"
      ],
      "execution_count": 4,
      "outputs": [
        {
          "output_type": "execute_result",
          "data": {
            "text/html": [
              "<div>\n",
              "<style scoped>\n",
              "    .dataframe tbody tr th:only-of-type {\n",
              "        vertical-align: middle;\n",
              "    }\n",
              "\n",
              "    .dataframe tbody tr th {\n",
              "        vertical-align: top;\n",
              "    }\n",
              "\n",
              "    .dataframe thead th {\n",
              "        text-align: right;\n",
              "    }\n",
              "</style>\n",
              "<table border=\"1\" class=\"dataframe\">\n",
              "  <thead>\n",
              "    <tr style=\"text-align: right;\">\n",
              "      <th></th>\n",
              "      <th>order_id</th>\n",
              "      <th>shop_id</th>\n",
              "      <th>user_id</th>\n",
              "      <th>order_amount</th>\n",
              "      <th>total_items</th>\n",
              "      <th>payment_method</th>\n",
              "      <th>created_at</th>\n",
              "    </tr>\n",
              "  </thead>\n",
              "  <tbody>\n",
              "    <tr>\n",
              "      <th>1436</th>\n",
              "      <td>1437</td>\n",
              "      <td>42</td>\n",
              "      <td>607</td>\n",
              "      <td>704000</td>\n",
              "      <td>2000</td>\n",
              "      <td>credit_card</td>\n",
              "      <td>2017-03-11 4:00:00</td>\n",
              "    </tr>\n",
              "    <tr>\n",
              "      <th>4056</th>\n",
              "      <td>4057</td>\n",
              "      <td>42</td>\n",
              "      <td>607</td>\n",
              "      <td>704000</td>\n",
              "      <td>2000</td>\n",
              "      <td>credit_card</td>\n",
              "      <td>2017-03-28 4:00:00</td>\n",
              "    </tr>\n",
              "    <tr>\n",
              "      <th>2297</th>\n",
              "      <td>2298</td>\n",
              "      <td>42</td>\n",
              "      <td>607</td>\n",
              "      <td>704000</td>\n",
              "      <td>2000</td>\n",
              "      <td>credit_card</td>\n",
              "      <td>2017-03-07 4:00:00</td>\n",
              "    </tr>\n",
              "    <tr>\n",
              "      <th>1362</th>\n",
              "      <td>1363</td>\n",
              "      <td>42</td>\n",
              "      <td>607</td>\n",
              "      <td>704000</td>\n",
              "      <td>2000</td>\n",
              "      <td>credit_card</td>\n",
              "      <td>2017-03-15 4:00:00</td>\n",
              "    </tr>\n",
              "    <tr>\n",
              "      <th>4882</th>\n",
              "      <td>4883</td>\n",
              "      <td>42</td>\n",
              "      <td>607</td>\n",
              "      <td>704000</td>\n",
              "      <td>2000</td>\n",
              "      <td>credit_card</td>\n",
              "      <td>2017-03-25 4:00:00</td>\n",
              "    </tr>\n",
              "    <tr>\n",
              "      <th>2153</th>\n",
              "      <td>2154</td>\n",
              "      <td>42</td>\n",
              "      <td>607</td>\n",
              "      <td>704000</td>\n",
              "      <td>2000</td>\n",
              "      <td>credit_card</td>\n",
              "      <td>2017-03-12 4:00:00</td>\n",
              "    </tr>\n",
              "    <tr>\n",
              "      <th>2969</th>\n",
              "      <td>2970</td>\n",
              "      <td>42</td>\n",
              "      <td>607</td>\n",
              "      <td>704000</td>\n",
              "      <td>2000</td>\n",
              "      <td>credit_card</td>\n",
              "      <td>2017-03-28 4:00:00</td>\n",
              "    </tr>\n",
              "    <tr>\n",
              "      <th>2835</th>\n",
              "      <td>2836</td>\n",
              "      <td>42</td>\n",
              "      <td>607</td>\n",
              "      <td>704000</td>\n",
              "      <td>2000</td>\n",
              "      <td>credit_card</td>\n",
              "      <td>2017-03-28 4:00:00</td>\n",
              "    </tr>\n",
              "    <tr>\n",
              "      <th>4868</th>\n",
              "      <td>4869</td>\n",
              "      <td>42</td>\n",
              "      <td>607</td>\n",
              "      <td>704000</td>\n",
              "      <td>2000</td>\n",
              "      <td>credit_card</td>\n",
              "      <td>2017-03-22 4:00:00</td>\n",
              "    </tr>\n",
              "    <tr>\n",
              "      <th>1602</th>\n",
              "      <td>1603</td>\n",
              "      <td>42</td>\n",
              "      <td>607</td>\n",
              "      <td>704000</td>\n",
              "      <td>2000</td>\n",
              "      <td>credit_card</td>\n",
              "      <td>2017-03-17 4:00:00</td>\n",
              "    </tr>\n",
              "    <tr>\n",
              "      <th>60</th>\n",
              "      <td>61</td>\n",
              "      <td>42</td>\n",
              "      <td>607</td>\n",
              "      <td>704000</td>\n",
              "      <td>2000</td>\n",
              "      <td>credit_card</td>\n",
              "      <td>2017-03-04 4:00:00</td>\n",
              "    </tr>\n",
              "    <tr>\n",
              "      <th>520</th>\n",
              "      <td>521</td>\n",
              "      <td>42</td>\n",
              "      <td>607</td>\n",
              "      <td>704000</td>\n",
              "      <td>2000</td>\n",
              "      <td>credit_card</td>\n",
              "      <td>2017-03-02 4:00:00</td>\n",
              "    </tr>\n",
              "    <tr>\n",
              "      <th>1562</th>\n",
              "      <td>1563</td>\n",
              "      <td>42</td>\n",
              "      <td>607</td>\n",
              "      <td>704000</td>\n",
              "      <td>2000</td>\n",
              "      <td>credit_card</td>\n",
              "      <td>2017-03-19 4:00:00</td>\n",
              "    </tr>\n",
              "    <tr>\n",
              "      <th>4646</th>\n",
              "      <td>4647</td>\n",
              "      <td>42</td>\n",
              "      <td>607</td>\n",
              "      <td>704000</td>\n",
              "      <td>2000</td>\n",
              "      <td>credit_card</td>\n",
              "      <td>2017-03-02 4:00:00</td>\n",
              "    </tr>\n",
              "    <tr>\n",
              "      <th>3332</th>\n",
              "      <td>3333</td>\n",
              "      <td>42</td>\n",
              "      <td>607</td>\n",
              "      <td>704000</td>\n",
              "      <td>2000</td>\n",
              "      <td>credit_card</td>\n",
              "      <td>2017-03-24 4:00:00</td>\n",
              "    </tr>\n",
              "    <tr>\n",
              "      <th>1104</th>\n",
              "      <td>1105</td>\n",
              "      <td>42</td>\n",
              "      <td>607</td>\n",
              "      <td>704000</td>\n",
              "      <td>2000</td>\n",
              "      <td>credit_card</td>\n",
              "      <td>2017-03-24 4:00:00</td>\n",
              "    </tr>\n",
              "    <tr>\n",
              "      <th>15</th>\n",
              "      <td>16</td>\n",
              "      <td>42</td>\n",
              "      <td>607</td>\n",
              "      <td>704000</td>\n",
              "      <td>2000</td>\n",
              "      <td>credit_card</td>\n",
              "      <td>2017-03-07 4:00:00</td>\n",
              "    </tr>\n",
              "    <tr>\n",
              "      <th>691</th>\n",
              "      <td>692</td>\n",
              "      <td>78</td>\n",
              "      <td>878</td>\n",
              "      <td>154350</td>\n",
              "      <td>6</td>\n",
              "      <td>debit</td>\n",
              "      <td>2017-03-27 22:51:43</td>\n",
              "    </tr>\n",
              "    <tr>\n",
              "      <th>2492</th>\n",
              "      <td>2493</td>\n",
              "      <td>78</td>\n",
              "      <td>834</td>\n",
              "      <td>102900</td>\n",
              "      <td>4</td>\n",
              "      <td>debit</td>\n",
              "      <td>2017-03-04 4:37:34</td>\n",
              "    </tr>\n",
              "    <tr>\n",
              "      <th>3724</th>\n",
              "      <td>3725</td>\n",
              "      <td>78</td>\n",
              "      <td>766</td>\n",
              "      <td>77175</td>\n",
              "      <td>3</td>\n",
              "      <td>credit_card</td>\n",
              "      <td>2017-03-16 14:13:26</td>\n",
              "    </tr>\n",
              "  </tbody>\n",
              "</table>\n",
              "</div>"
            ],
            "text/plain": [
              "      order_id  shop_id  ...  payment_method           created_at\n",
              "1436      1437       42  ...     credit_card   2017-03-11 4:00:00\n",
              "4056      4057       42  ...     credit_card   2017-03-28 4:00:00\n",
              "2297      2298       42  ...     credit_card   2017-03-07 4:00:00\n",
              "1362      1363       42  ...     credit_card   2017-03-15 4:00:00\n",
              "4882      4883       42  ...     credit_card   2017-03-25 4:00:00\n",
              "2153      2154       42  ...     credit_card   2017-03-12 4:00:00\n",
              "2969      2970       42  ...     credit_card   2017-03-28 4:00:00\n",
              "2835      2836       42  ...     credit_card   2017-03-28 4:00:00\n",
              "4868      4869       42  ...     credit_card   2017-03-22 4:00:00\n",
              "1602      1603       42  ...     credit_card   2017-03-17 4:00:00\n",
              "60          61       42  ...     credit_card   2017-03-04 4:00:00\n",
              "520        521       42  ...     credit_card   2017-03-02 4:00:00\n",
              "1562      1563       42  ...     credit_card   2017-03-19 4:00:00\n",
              "4646      4647       42  ...     credit_card   2017-03-02 4:00:00\n",
              "3332      3333       42  ...     credit_card   2017-03-24 4:00:00\n",
              "1104      1105       42  ...     credit_card   2017-03-24 4:00:00\n",
              "15          16       42  ...     credit_card   2017-03-07 4:00:00\n",
              "691        692       78  ...           debit  2017-03-27 22:51:43\n",
              "2492      2493       78  ...           debit   2017-03-04 4:37:34\n",
              "3724      3725       78  ...     credit_card  2017-03-16 14:13:26\n",
              "\n",
              "[20 rows x 7 columns]"
            ]
          },
          "metadata": {},
          "execution_count": 4
        }
      ]
    },
    {
      "cell_type": "code",
      "metadata": {
        "colab": {
          "base_uri": "https://localhost:8080/",
          "height": 675
        },
        "id": "kIFUqRfYj1UO",
        "outputId": "fc4a1296-38a2-49cb-9fb8-57af1898b54f"
      },
      "source": [
        "data.sort_values(by=['total_items'],ascending=False).head(20)"
      ],
      "execution_count": 5,
      "outputs": [
        {
          "output_type": "execute_result",
          "data": {
            "text/html": [
              "<div>\n",
              "<style scoped>\n",
              "    .dataframe tbody tr th:only-of-type {\n",
              "        vertical-align: middle;\n",
              "    }\n",
              "\n",
              "    .dataframe tbody tr th {\n",
              "        vertical-align: top;\n",
              "    }\n",
              "\n",
              "    .dataframe thead th {\n",
              "        text-align: right;\n",
              "    }\n",
              "</style>\n",
              "<table border=\"1\" class=\"dataframe\">\n",
              "  <thead>\n",
              "    <tr style=\"text-align: right;\">\n",
              "      <th></th>\n",
              "      <th>order_id</th>\n",
              "      <th>shop_id</th>\n",
              "      <th>user_id</th>\n",
              "      <th>order_amount</th>\n",
              "      <th>total_items</th>\n",
              "      <th>payment_method</th>\n",
              "      <th>created_at</th>\n",
              "    </tr>\n",
              "  </thead>\n",
              "  <tbody>\n",
              "    <tr>\n",
              "      <th>1562</th>\n",
              "      <td>1563</td>\n",
              "      <td>42</td>\n",
              "      <td>607</td>\n",
              "      <td>704000</td>\n",
              "      <td>2000</td>\n",
              "      <td>credit_card</td>\n",
              "      <td>2017-03-19 4:00:00</td>\n",
              "    </tr>\n",
              "    <tr>\n",
              "      <th>4646</th>\n",
              "      <td>4647</td>\n",
              "      <td>42</td>\n",
              "      <td>607</td>\n",
              "      <td>704000</td>\n",
              "      <td>2000</td>\n",
              "      <td>credit_card</td>\n",
              "      <td>2017-03-02 4:00:00</td>\n",
              "    </tr>\n",
              "    <tr>\n",
              "      <th>1436</th>\n",
              "      <td>1437</td>\n",
              "      <td>42</td>\n",
              "      <td>607</td>\n",
              "      <td>704000</td>\n",
              "      <td>2000</td>\n",
              "      <td>credit_card</td>\n",
              "      <td>2017-03-11 4:00:00</td>\n",
              "    </tr>\n",
              "    <tr>\n",
              "      <th>4056</th>\n",
              "      <td>4057</td>\n",
              "      <td>42</td>\n",
              "      <td>607</td>\n",
              "      <td>704000</td>\n",
              "      <td>2000</td>\n",
              "      <td>credit_card</td>\n",
              "      <td>2017-03-28 4:00:00</td>\n",
              "    </tr>\n",
              "    <tr>\n",
              "      <th>2835</th>\n",
              "      <td>2836</td>\n",
              "      <td>42</td>\n",
              "      <td>607</td>\n",
              "      <td>704000</td>\n",
              "      <td>2000</td>\n",
              "      <td>credit_card</td>\n",
              "      <td>2017-03-28 4:00:00</td>\n",
              "    </tr>\n",
              "    <tr>\n",
              "      <th>2969</th>\n",
              "      <td>2970</td>\n",
              "      <td>42</td>\n",
              "      <td>607</td>\n",
              "      <td>704000</td>\n",
              "      <td>2000</td>\n",
              "      <td>credit_card</td>\n",
              "      <td>2017-03-28 4:00:00</td>\n",
              "    </tr>\n",
              "    <tr>\n",
              "      <th>2153</th>\n",
              "      <td>2154</td>\n",
              "      <td>42</td>\n",
              "      <td>607</td>\n",
              "      <td>704000</td>\n",
              "      <td>2000</td>\n",
              "      <td>credit_card</td>\n",
              "      <td>2017-03-12 4:00:00</td>\n",
              "    </tr>\n",
              "    <tr>\n",
              "      <th>4868</th>\n",
              "      <td>4869</td>\n",
              "      <td>42</td>\n",
              "      <td>607</td>\n",
              "      <td>704000</td>\n",
              "      <td>2000</td>\n",
              "      <td>credit_card</td>\n",
              "      <td>2017-03-22 4:00:00</td>\n",
              "    </tr>\n",
              "    <tr>\n",
              "      <th>60</th>\n",
              "      <td>61</td>\n",
              "      <td>42</td>\n",
              "      <td>607</td>\n",
              "      <td>704000</td>\n",
              "      <td>2000</td>\n",
              "      <td>credit_card</td>\n",
              "      <td>2017-03-04 4:00:00</td>\n",
              "    </tr>\n",
              "    <tr>\n",
              "      <th>520</th>\n",
              "      <td>521</td>\n",
              "      <td>42</td>\n",
              "      <td>607</td>\n",
              "      <td>704000</td>\n",
              "      <td>2000</td>\n",
              "      <td>credit_card</td>\n",
              "      <td>2017-03-02 4:00:00</td>\n",
              "    </tr>\n",
              "    <tr>\n",
              "      <th>1602</th>\n",
              "      <td>1603</td>\n",
              "      <td>42</td>\n",
              "      <td>607</td>\n",
              "      <td>704000</td>\n",
              "      <td>2000</td>\n",
              "      <td>credit_card</td>\n",
              "      <td>2017-03-17 4:00:00</td>\n",
              "    </tr>\n",
              "    <tr>\n",
              "      <th>15</th>\n",
              "      <td>16</td>\n",
              "      <td>42</td>\n",
              "      <td>607</td>\n",
              "      <td>704000</td>\n",
              "      <td>2000</td>\n",
              "      <td>credit_card</td>\n",
              "      <td>2017-03-07 4:00:00</td>\n",
              "    </tr>\n",
              "    <tr>\n",
              "      <th>1362</th>\n",
              "      <td>1363</td>\n",
              "      <td>42</td>\n",
              "      <td>607</td>\n",
              "      <td>704000</td>\n",
              "      <td>2000</td>\n",
              "      <td>credit_card</td>\n",
              "      <td>2017-03-15 4:00:00</td>\n",
              "    </tr>\n",
              "    <tr>\n",
              "      <th>3332</th>\n",
              "      <td>3333</td>\n",
              "      <td>42</td>\n",
              "      <td>607</td>\n",
              "      <td>704000</td>\n",
              "      <td>2000</td>\n",
              "      <td>credit_card</td>\n",
              "      <td>2017-03-24 4:00:00</td>\n",
              "    </tr>\n",
              "    <tr>\n",
              "      <th>2297</th>\n",
              "      <td>2298</td>\n",
              "      <td>42</td>\n",
              "      <td>607</td>\n",
              "      <td>704000</td>\n",
              "      <td>2000</td>\n",
              "      <td>credit_card</td>\n",
              "      <td>2017-03-07 4:00:00</td>\n",
              "    </tr>\n",
              "    <tr>\n",
              "      <th>1104</th>\n",
              "      <td>1105</td>\n",
              "      <td>42</td>\n",
              "      <td>607</td>\n",
              "      <td>704000</td>\n",
              "      <td>2000</td>\n",
              "      <td>credit_card</td>\n",
              "      <td>2017-03-24 4:00:00</td>\n",
              "    </tr>\n",
              "    <tr>\n",
              "      <th>4882</th>\n",
              "      <td>4883</td>\n",
              "      <td>42</td>\n",
              "      <td>607</td>\n",
              "      <td>704000</td>\n",
              "      <td>2000</td>\n",
              "      <td>credit_card</td>\n",
              "      <td>2017-03-25 4:00:00</td>\n",
              "    </tr>\n",
              "    <tr>\n",
              "      <th>4141</th>\n",
              "      <td>4142</td>\n",
              "      <td>54</td>\n",
              "      <td>733</td>\n",
              "      <td>1064</td>\n",
              "      <td>8</td>\n",
              "      <td>debit</td>\n",
              "      <td>2017-03-07 17:05:18</td>\n",
              "    </tr>\n",
              "    <tr>\n",
              "      <th>691</th>\n",
              "      <td>692</td>\n",
              "      <td>78</td>\n",
              "      <td>878</td>\n",
              "      <td>154350</td>\n",
              "      <td>6</td>\n",
              "      <td>debit</td>\n",
              "      <td>2017-03-27 22:51:43</td>\n",
              "    </tr>\n",
              "    <tr>\n",
              "      <th>1563</th>\n",
              "      <td>1564</td>\n",
              "      <td>91</td>\n",
              "      <td>934</td>\n",
              "      <td>960</td>\n",
              "      <td>6</td>\n",
              "      <td>debit</td>\n",
              "      <td>2017-03-23 8:25:49</td>\n",
              "    </tr>\n",
              "  </tbody>\n",
              "</table>\n",
              "</div>"
            ],
            "text/plain": [
              "      order_id  shop_id  ...  payment_method           created_at\n",
              "1562      1563       42  ...     credit_card   2017-03-19 4:00:00\n",
              "4646      4647       42  ...     credit_card   2017-03-02 4:00:00\n",
              "1436      1437       42  ...     credit_card   2017-03-11 4:00:00\n",
              "4056      4057       42  ...     credit_card   2017-03-28 4:00:00\n",
              "2835      2836       42  ...     credit_card   2017-03-28 4:00:00\n",
              "2969      2970       42  ...     credit_card   2017-03-28 4:00:00\n",
              "2153      2154       42  ...     credit_card   2017-03-12 4:00:00\n",
              "4868      4869       42  ...     credit_card   2017-03-22 4:00:00\n",
              "60          61       42  ...     credit_card   2017-03-04 4:00:00\n",
              "520        521       42  ...     credit_card   2017-03-02 4:00:00\n",
              "1602      1603       42  ...     credit_card   2017-03-17 4:00:00\n",
              "15          16       42  ...     credit_card   2017-03-07 4:00:00\n",
              "1362      1363       42  ...     credit_card   2017-03-15 4:00:00\n",
              "3332      3333       42  ...     credit_card   2017-03-24 4:00:00\n",
              "2297      2298       42  ...     credit_card   2017-03-07 4:00:00\n",
              "1104      1105       42  ...     credit_card   2017-03-24 4:00:00\n",
              "4882      4883       42  ...     credit_card   2017-03-25 4:00:00\n",
              "4141      4142       54  ...           debit  2017-03-07 17:05:18\n",
              "691        692       78  ...           debit  2017-03-27 22:51:43\n",
              "1563      1564       91  ...           debit   2017-03-23 8:25:49\n",
              "\n",
              "[20 rows x 7 columns]"
            ]
          },
          "metadata": {},
          "execution_count": 5
        }
      ]
    },
    {
      "cell_type": "markdown",
      "metadata": {
        "id": "kOy2MBkHurpW"
      },
      "source": [
        "# **Question 1 Part a)**\n",
        "## **Think about a better way to evaluate this data.**\n",
        "3: methods\n",
        "1. Remove the outliers\n",
        "2. Alter the AOV formula:<br>\n",
        "Naive:<br>\n",
        "  *AOV = total revenue / number of orders*<br>\n",
        "Altered:<br>\n",
        "  *AOV = total revenue / number of items sold*"
      ]
    },
    {
      "cell_type": "markdown",
      "metadata": {
        "id": "ao6k1HpeW6Mo"
      },
      "source": [
        "Just a quick plot to visualize the orders of user 607 compared to the other order."
      ]
    },
    {
      "cell_type": "code",
      "metadata": {
        "colab": {
          "base_uri": "https://localhost:8080/",
          "height": 296
        },
        "id": "V5HlJ9H25JVP",
        "outputId": "a43a6b91-db0c-4dc1-ec6b-38b50446ba66"
      },
      "source": [
        "# The dataset containing user 607.\n",
        "dataOutlier = data[data['user_id'] == 607]\n",
        "# The dataset without user 607. \n",
        "dataNormal = data[data['user_id'] != 607]\n",
        "\n",
        "plt.scatter(dataNormal['total_items'], dataNormal['order_amount'],label='User 607')\n",
        "plt.scatter(dataOutlier['total_items'], dataOutlier['order_amount'],label='Not User 607')\n",
        "plt.legend()\n",
        "plt.xlabel('Total_Items')\n",
        "plt.ylabel('Order_amount')\n",
        "plt.title('Total_items vs Order_amount for each Order for the month of March 2017')\n",
        "plt.show()"
      ],
      "execution_count": 6,
      "outputs": [
        {
          "output_type": "display_data",
          "data": {
            "image/png": "[encoded data removed]",
            "text/plain": [
              "<Figure size 432x288 with 1 Axes>"
            ]
          },
          "metadata": {
            "needs_background": "light"
          }
        }
      ]
    },
    {
      "cell_type": "markdown",
      "metadata": {
        "id": "QjQO-PdOlCKv"
      },
      "source": [
        "## **Question 1 Part b)**\n",
        "What metric would you report for this dataset?\n",
        "<br><br>\n",
        "\n",
        "The metric I would report for this dataset is the **Mode**. The Mode, the most frequently occuring order value, is more robust to outliers resulting in less skewed values. In comparison, The Median which is the middle value of all orders maybe skewed towards one extreme if the extremely is significantly deviated from the norm. \n",
        "<br>  "
      ]
    },
    {
      "cell_type": "markdown",
      "metadata": {
        "id": "m0a3oQ-KXpEz"
      },
      "source": [
        "## **Question 1 Part c)**\n",
        "What is its value?\n",
        "\n",
        "\n"
      ]
    },
    {
      "cell_type": "code",
      "metadata": {
        "colab": {
          "base_uri": "https://localhost:8080/"
        },
        "id": "4EV3lduDVW1F",
        "outputId": "262ce656-8f56-4e1c-f7f0-e198b09aaf2a"
      },
      "source": [
        "dataMode = data['order_amount'].mode()\n",
        "dataMode[0]"
      ],
      "execution_count": 7,
      "outputs": [
        {
          "output_type": "execute_result",
          "data": {
            "text/plain": [
              "153"
            ]
          },
          "metadata": {},
          "execution_count": 7
        }
      ]
    }
  ]
}